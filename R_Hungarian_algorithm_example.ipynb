{
 "cells": [
  {
   "cell_type": "code",
   "execution_count": 1,
   "metadata": {
    "collapsed": true
   },
   "outputs": [],
   "source": [
    "#\n",
    "# Problem: Given a matrix, find combination of elements, which belong to unique row and column, that has minimum sum\n",
    "#\n",
    "# Solution:\n",
    "# - This is same to the minimum cost bipartite matching problem\n",
    "# - One way is to solve the linear sum assignment problem using the Hungarian method\n",
    "# \n",
    "# Below is an example to demonstrate Hungarian algorithm in R\n",
    "#   https://en.wikipedia.org/wiki/Hungarian_algorithm\n",
    "#\n",
    "# Toan Nguyen / 2017 Dec 1st\n",
    "#"
   ]
  },
  {
   "cell_type": "code",
   "execution_count": 2,
   "metadata": {},
   "outputs": [],
   "source": [
    "library(clue)"
   ]
  },
  {
   "cell_type": "code",
   "execution_count": 3,
   "metadata": {
    "collapsed": true
   },
   "outputs": [],
   "source": [
    "# Matrix element's value range\n",
    "value_range <- seq(1:10)\n",
    "# Matrix size\n",
    "matrix_size <- 3\n",
    "# Random seed\n",
    "set.seed(1234)"
   ]
  },
  {
   "cell_type": "code",
   "execution_count": 4,
   "metadata": {},
   "outputs": [
    {
     "data": {
      "text/html": [
       "<table>\n",
       "<tbody>\n",
       "\t<tr><td>2 </td><td>8 </td><td> 1</td></tr>\n",
       "\t<tr><td>6 </td><td>9 </td><td> 7</td></tr>\n",
       "\t<tr><td>5 </td><td>4 </td><td>10</td></tr>\n",
       "</tbody>\n",
       "</table>\n"
      ],
      "text/latex": [
       "\\begin{tabular}{lll}\n",
       "\t 2  & 8  &  1\\\\\n",
       "\t 6  & 9  &  7\\\\\n",
       "\t 5  & 4  & 10\\\\\n",
       "\\end{tabular}\n"
      ],
      "text/markdown": [
       "\n",
       "| 2  | 8  |  1 | \n",
       "| 6  | 9  |  7 | \n",
       "| 5  | 4  | 10 | \n",
       "\n",
       "\n"
      ],
      "text/plain": [
       "     [,1] [,2] [,3]\n",
       "[1,] 2    8     1  \n",
       "[2,] 6    9     7  \n",
       "[3,] 5    4    10  "
      ]
     },
     "metadata": {},
     "output_type": "display_data"
    }
   ],
   "source": [
    "# Sample matrix\n",
    "x <- matrix(sample(value_range, matrix_size**2), nrow=matrix_size, ncol=matrix_size)\n",
    "x"
   ]
  },
  {
   "cell_type": "code",
   "execution_count": 5,
   "metadata": {
    "collapsed": true
   },
   "outputs": [],
   "source": [
    "# Solve the linear sum assignment problem using the Hungarian method\n",
    "y <- solve_LSAP(x, maximum = FALSE)  # Change maximum = TRUE in case of finding maximum sum"
   ]
  },
  {
   "cell_type": "code",
   "execution_count": 6,
   "metadata": {},
   "outputs": [
    {
     "data": {
      "text/html": [
       "<table>\n",
       "<tbody>\n",
       "\t<tr><td>0</td><td>0</td><td>1</td></tr>\n",
       "\t<tr><td>6</td><td>0</td><td>0</td></tr>\n",
       "\t<tr><td>0</td><td>4</td><td>0</td></tr>\n",
       "</tbody>\n",
       "</table>\n"
      ],
      "text/latex": [
       "\\begin{tabular}{lll}\n",
       "\t 0 & 0 & 1\\\\\n",
       "\t 6 & 0 & 0\\\\\n",
       "\t 0 & 4 & 0\\\\\n",
       "\\end{tabular}\n"
      ],
      "text/markdown": [
       "\n",
       "| 0 | 0 | 1 | \n",
       "| 6 | 0 | 0 | \n",
       "| 0 | 4 | 0 | \n",
       "\n",
       "\n"
      ],
      "text/plain": [
       "     [,1] [,2] [,3]\n",
       "[1,] 0    0    1   \n",
       "[2,] 6    0    0   \n",
       "[3,] 0    4    0   "
      ]
     },
     "metadata": {},
     "output_type": "display_data"
    }
   ],
   "source": [
    "# Optimal combination\n",
    "opt_matrix <- matrix(rep(0, matrix_size**2), nrow=matrix_size, ncol=matrix_size)\n",
    "opt_matrix[cbind(seq_along(y), y)] <- 1\n",
    "opt_matrix <- x * opt_matrix\n",
    "opt_matrix"
   ]
  },
  {
   "cell_type": "code",
   "execution_count": 7,
   "metadata": {},
   "outputs": [
    {
     "data": {
      "text/html": [
       "11"
      ],
      "text/latex": [
       "11"
      ],
      "text/markdown": [
       "11"
      ],
      "text/plain": [
       "[1] 11"
      ]
     },
     "metadata": {},
     "output_type": "display_data"
    }
   ],
   "source": [
    "# Optimal sum\n",
    "sum(opt_matrix)"
   ]
  },
  {
   "cell_type": "code",
   "execution_count": 8,
   "metadata": {},
   "outputs": [
    {
     "data": {
      "text/plain": [
       "R version 3.3.2 (2016-10-31)\n",
       "Platform: x86_64-apple-darwin11.4.2 (64-bit)\n",
       "Running under: macOS Sierra 10.12.6\n",
       "\n",
       "locale:\n",
       "[1] C/UTF-8/C/C/C/C\n",
       "\n",
       "attached base packages:\n",
       "[1] stats     graphics  grDevices utils     datasets  methods   base     \n",
       "\n",
       "other attached packages:\n",
       "[1] clue_0.3-54\n",
       "\n",
       "loaded via a namespace (and not attached):\n",
       " [1] R6_2.2.2        magrittr_1.5    IRdisplay_0.4.4 pbdZMQ_0.2-4   \n",
       " [5] tools_3.3.2     crayon_1.3.2    uuid_0.1-2      stringi_1.1.2  \n",
       " [9] IRkernel_0.7.1  jsonlite_1.1    stringr_1.2.0   digest_0.6.10  \n",
       "[13] repr_0.12.0     cluster_2.0.5   evaluate_0.10  "
      ]
     },
     "metadata": {},
     "output_type": "display_data"
    }
   ],
   "source": [
    "# Demo environment\n",
    "sessionInfo()"
   ]
  }
 ],
 "metadata": {
  "kernelspec": {
   "display_name": "R",
   "language": "R",
   "name": "ir"
  },
  "language_info": {
   "codemirror_mode": "r",
   "file_extension": ".r",
   "mimetype": "text/x-r-source",
   "name": "R",
   "pygments_lexer": "r",
   "version": "3.3.2"
  }
 },
 "nbformat": 4,
 "nbformat_minor": 2
}
